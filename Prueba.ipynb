{
 "cells": [
  {
   "cell_type": "code",
   "execution_count": null,
   "id": "c513ff9e-d84f-46ee-a4d1-e2abb79f4aa8",
   "metadata": {},
   "outputs": [],
   "source": [
    "Archivo de prueba"
   ]
  }
 ],
 "metadata": {
  "kernelspec": {
   "display_name": "Python 3 (ipykernel)",
   "language": "python",
   "name": "python3"
  },
  "language_info": {
   "codemirror_mode": {
    "name": "ipython",
    "version": 3
   },
   "file_extension": ".py",
   "mimetype": "text/x-python",
   "name": "python",
   "nbconvert_exporter": "python",
   "pygments_lexer": "ipython3",
   "version": "3.11.5"
  }
 },
 "nbformat": 4,
 "nbformat_minor": 5
}
